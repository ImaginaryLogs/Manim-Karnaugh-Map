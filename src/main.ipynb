{
 "cells": [
  {
   "cell_type": "markdown",
   "metadata": {},
   "source": [
    "# K-Map Visualizer\n",
    "This Jupyter notebook allows users to see how a kmap can be solved.\n",
    "\n",
    "Simply input the matrix you want and press play."
   ]
  },
  {
   "cell_type": "code",
   "execution_count": 1,
   "metadata": {},
   "outputs": [],
   "source": [
    "from manim import *\n",
    "\n",
    "import numpy as np\n",
    "config.media_width = \"100%\"\n",
    "_RV = \"-v WARNING -qm --progress_bar None --disable_caching Example\""
   ]
  },
  {
   "cell_type": "code",
   "execution_count": 2,
   "metadata": {},
   "outputs": [],
   "source": [
    "from pyeda.inter import *\n",
    "import re"
   ]
  },
  {
   "cell_type": "code",
   "execution_count": 3,
   "metadata": {},
   "outputs": [
    {
     "data": {
      "text/plain": [
       "Or(a, ~d, And(~b, c))"
      ]
     },
     "execution_count": 3,
     "metadata": {},
     "output_type": "execute_result"
    }
   ],
   "source": [
    "a, b, c, d = map(exprvar, 'abcd')\n",
    "\n",
    "input_equation = Or(~a & ~b & c, a & d, b & ~d, c & ~d, a & ~c, ~a & ~d)\n",
    "f = espresso_exprs(input_equation)[0]\n",
    "f\n"
   ]
  },
  {
   "cell_type": "code",
   "execution_count": 4,
   "metadata": {},
   "outputs": [
    {
     "data": {
      "text/plain": [
       "array([[1, 0, 1, 1],\n",
       "       [1, 0, 0, 1],\n",
       "       [1, 1, 1, 1],\n",
       "       [1, 1, 1, 1]])"
      ]
     },
     "execution_count": 4,
     "metadata": {},
     "output_type": "execute_result"
    }
   ],
   "source": [
    "simplified_input = str(f)[3:][:-1]\n",
    "comma_regex = r',\\s*(?![^()]*\\))'\n",
    "simplified_input = re.split(comma_regex, simplified_input)\n",
    "simplified_input\n",
    "\n",
    "\n",
    "simplified_input  \n",
    "\n",
    "tt = expr2truthtable(f)\n",
    "\n",
    "\n",
    "\n",
    "def graycode_gen(n: int):\n",
    "    \"\"\"Generate Gray code ordering for n bits.\"\"\"\n",
    "    result = [i ^ (i >> 1) for i in range(2**n)]\n",
    "    return result\n",
    "\n",
    "def truth_table_to_kmap(truth_table):\n",
    "    # Size can be odd like for a 3 table.\n",
    "    num_vars = len(truth_table.support)\n",
    "    half_vars = num_vars // 2\n",
    "    num_rows = 2**half_vars\n",
    "    num_cols = 2**(num_vars - half_vars)\n",
    "    \n",
    "    row_graycode, col_graycode = graycode_gen(half_vars), graycode_gen(num_vars - half_vars)\n",
    "    \n",
    "    kmap = np.zeros((num_rows, num_cols), dtype=int)\n",
    "    \n",
    "    for position, value in truth_table.iter_relation():\n",
    "      position = tuple(position.values())\n",
    "      row_index = row_graycode[position[:half_vars][0] * 2 + position[1]]\n",
    "      col_index = col_graycode[position[half_vars:][0] * 2 + position[3]]\n",
    "      kmap[row_index, col_index] = value\n",
    "    return kmap\n",
    "\n",
    "truth_table_to_kmap(tt)\n",
    "\n"
   ]
  },
  {
   "cell_type": "code",
   "execution_count": 5,
   "metadata": {},
   "outputs": [
    {
     "data": {
      "text/plain": [
       "matrix([[0, 0, 0, 0],\n",
       "        [0, 0, 0, 0],\n",
       "        [0, 0, 0, 0],\n",
       "        [0, 0, 0, 0]])"
      ]
     },
     "execution_count": 5,
     "metadata": {},
     "output_type": "execute_result"
    }
   ],
   "source": [
    "terms = f.support\n",
    "input_matrix = np.matrix([[0] * len(terms) for _ in range(len(terms))])\n",
    "input_matrix"
   ]
  },
  {
   "cell_type": "markdown",
   "metadata": {},
   "source": [
    "## Settings:"
   ]
  },
  {
   "cell_type": "code",
   "execution_count": 6,
   "metadata": {},
   "outputs": [],
   "source": [
    "# Settings\n",
    "input_matrix = truth_table_to_kmap(tt)\n",
    "   \n",
    "   \n",
    "predefined_colors = [PURPLE, MAROON, RED, ORANGE, GOLD, YELLOW, GREEN, TEAL, BLUE]"
   ]
  },
  {
   "cell_type": "code",
   "execution_count": 7,
   "metadata": {},
   "outputs": [],
   "source": [
    "# Adds colors from the solved groups      \n",
    "import kmap_animator\n",
    "mingroups = kmap_animator.create_min_groups(input_matrix)\n",
    "mop_mingroup = []\n",
    "color_picker = kmap_animator.color_selector(predefined_colors)\n",
    "for mingroup_cluster in mingroups:\n",
    "  selected_color = color_picker()\n",
    "  for mingroup in mingroup_cluster:\n",
    "    mop_mingroup.append({\"coords\": mingroup, \"color\": selected_color})"
   ]
  },
  {
   "cell_type": "markdown",
   "metadata": {},
   "source": [
    "## Animation Output:"
   ]
  },
  {
   "cell_type": "code",
   "execution_count": 8,
   "metadata": {},
   "outputs": [
    {
     "data": {
      "text/html": [
       "<pre style=\"white-space:pre;overflow-x:auto;line-height:normal;font-family:Menlo,'DejaVu Sans Mono',consolas,'Courier New',monospace\">Manim Community <span style=\"color: #008000; text-decoration-color: #008000\">v0.18.1</span>\n",
       "\n",
       "</pre>\n"
      ],
      "text/plain": [
       "Manim Community \u001b[32mv0.\u001b[0m\u001b[32m18.1\u001b[0m\n",
       "\n"
      ]
     },
     "metadata": {},
     "output_type": "display_data"
    },
    {
     "data": {
      "text/html": [
       "<video src=\"media/jupyter/Example@2025-01-31@16-35-04.mp4\" controls autoplay loop style=\"max-width: 100%;\"  >\n",
       "      Your browser does not support the <code>video</code> element.\n",
       "    </video>"
      ],
      "text/plain": [
       "<IPython.core.display.Video object>"
      ]
     },
     "metadata": {},
     "output_type": "display_data"
    }
   ],
   "source": [
    "%%manim $_RV\n",
    "# Animation manim magic to see\n",
    "class Example(Scene):\n",
    "    def construct(self):\n",
    "        # Example matrix (you can replace this with any n x m matrix)\n",
    "        matrix = input_matrix\n",
    "\n",
    "        # Call the function to generate the K-map\n",
    "        kmap, labels = self.create_kmap(matrix)\n",
    "\n",
    "        # Add a title\n",
    "        title = Text(\"Karnaugh Map\", font_size=24).to_edge(UP)\n",
    "        self.play(Write(title))\n",
    "\n",
    "        # Add the K-map labels and grid to the scene\n",
    "        self.play(Create(labels), Create(kmap))\n",
    "\n",
    "\n",
    "        self.wait(1)\n",
    "        \n",
    "        # Define rectangles using top-left and bottom-right coordinates\n",
    "        rectangles = mop_mingroup\n",
    "\n",
    "        # Get the top-left corner of the K-map\n",
    "        kmap_corner = kmap.get_corner(UL)  # UL = Upper Left in Manim\n",
    "        kmap_bottom_right = kmap.get_corner(DR)  # DR = Down Right in Manim\n",
    "\n",
    "        # Constants for cell dimensions\n",
    "        cell_width = 1.0\n",
    "        cell_height = 1.0\n",
    "        cell_margin = 0\n",
    "        corner_radius = 0.5\n",
    "        dashes = 10\n",
    "\n",
    "\n",
    "        # Add encompassing rectangle around the entire K-map\n",
    "        kmap_width = kmap_bottom_right[0] - kmap_corner[0]\n",
    "        kmap_height = kmap_corner[1] - kmap_bottom_right[1]\n",
    "        kmap_rect = Rectangle(\n",
    "            width=kmap_width,\n",
    "            height=kmap_height,\n",
    "            color=WHITE,\n",
    "            fill_opacity=0.0,  # No fill, only border\n",
    "             stroke_opacity=0.1,\n",
    "        )\n",
    "        kmap_rect.move_to(kmap.get_center())\n",
    "        \n",
    "        dashed_kmap_rect = DashedVMobject(kmap_rect, num_dashes=40)\n",
    "\n",
    "\n",
    "        \n",
    "        self.play(Create(kmap_rect))\n",
    "\n",
    "        # Draw the rectangles with alpha transparency, clipped within the K-map boundaries\n",
    "        for i, rect in enumerate(rectangles):\n",
    "            # Unpack the given coordinates\n",
    "            (coord1, coord2) = rect[\"coords\"]\n",
    "            color = rect[\"color\"]\n",
    "\n",
    "            # Calculate the most encompassing rectangle's corners\n",
    "            top_left_row = min(coord1[1], coord2[1])\n",
    "            top_left_col = min(coord1[0], coord2[0])\n",
    "            bottom_right_row = max(coord1[1], coord2[1])\n",
    "            bottom_right_col = max(coord1[0], coord2[0])\n",
    "\n",
    "            # Calculate rectangle coordinates\n",
    "            top_left_x = kmap_corner[0] + top_left_col * (cell_width)\n",
    "            top_left_y = kmap_corner[1] - top_left_row * (cell_height)\n",
    "            bottom_right_x = kmap_corner[0] + (bottom_right_col + 1) * (cell_width)\n",
    "            bottom_right_y = kmap_corner[1] - (bottom_right_row + 1) * (cell_height)\n",
    "\n",
    "\n",
    "            # Recalculate width, height, and center after clipping\n",
    "            width = bottom_right_x - top_left_x + cell_margin \n",
    "            height = top_left_y - bottom_right_y + cell_margin \n",
    "            center_x = (top_left_x + bottom_right_x) / 2\n",
    "            center_y = (top_left_y + bottom_right_y) / 2\n",
    "\n",
    "            # Create the filled rectangle with transparency (alpha=0.2)\n",
    "            rectangle = RoundedRectangle(\n",
    "                corner_radius=min(corner_radius, width / 2, height / 2),\n",
    "                width=width,\n",
    "                height=height,\n",
    "                color=color,\n",
    "                stroke_opacity=0.3,\n",
    "                fill_opacity=0.3  # Set transparency\n",
    "            )\n",
    "            \n",
    "            rectangle.move_to([center_x, center_y, 0])\n",
    "            clipped_rectangle = Intersection(rectangle, kmap_rect, color=color, fill_opacity = 0.1, stroke_opacity=0.3)\n",
    "            # Add the rectangle to the scene\n",
    "            self.play(Create(clipped_rectangle), run_time=0.5)\n",
    "            \n",
    "\n",
    "        self.wait(3)\n",
    "\n",
    "    def create_kmap(self, matrix):\n",
    "        \"\"\"\n",
    "        Create a flat Karnaugh Map representation for an n x m matrix with Gray code labels.\n",
    "        \"\"\"\n",
    "        n = len(matrix)      # Number of rows\n",
    "        m = len(matrix[0])   # Number of columns\n",
    "\n",
    "        # Constants for layout\n",
    "        cell_width = 1.0\n",
    "        cell_height = 1.0\n",
    "        cell_margin = 0\n",
    "\n",
    "        # Group to hold all K-map elements\n",
    "        kmap_group = VGroup()\n",
    "        labels_group = VGroup()\n",
    "\n",
    "        # Gray code generation for labels\n",
    "        def gray_code(num_bits):\n",
    "            return [bin(i ^ (i >> 1))[2:].zfill(num_bits) for i in range(2 ** num_bits)]\n",
    "\n",
    "        row_labels = gray_code(int.bit_length(max(1, n - 1)))\n",
    "        col_labels = gray_code(int.bit_length(max(1, m - 1)))\n",
    "\n",
    "        get_color = lambda x: YELLOW if x == 1 else GRAY\n",
    "        get_bold  = lambda x: NORMAL if x == 1 else NORMAL\n",
    "        \n",
    "        # Generate the grid of the K-map\n",
    "        for i, row in enumerate(matrix):\n",
    "            for j, value in enumerate(row):\n",
    "                # Create the rectangle for the cell\n",
    "                rect = Rectangle(width=cell_width, height=cell_height, color=GRAY,  stroke_opacity=0.1)\n",
    "                rect.move_to(np.array([(j - m / 2) * (cell_width + cell_margin) + cell_width / 2,\n",
    "                                       -(i - n / 2) * (cell_height + cell_margin) - cell_height / 2,\n",
    "                                       0]))\n",
    "\n",
    "                # Add the value as a text in the center of the cell\n",
    "          \n",
    "                text = Text(str(value), font_size=36, color=get_color(value), weight=get_bold(value))\n",
    "                text.set_z_index(1)\n",
    "                text.move_to(rect.get_center())\n",
    "\n",
    "                # Group the rectangle and text together\n",
    "                cell_group = VGroup(rect, text)\n",
    "\n",
    "                # Add to the overall K-map group\n",
    "                kmap_group.add(cell_group)\n",
    "\n",
    "        def add_table_labels(idx, label, labelType: str):\n",
    "            label_text = Text(label, font_size=24)\n",
    "            is_col = labelType == \"COL\"\n",
    "            label_text.next_to(kmap_group[0].get_top() if is_col else kmap_group[0].get_left() , \n",
    "                               UP if is_col else LEFT, \n",
    "                               buff=0.5)\n",
    "            label_text.shift((RIGHT if is_col else DOWN) * idx * \n",
    "                             (cell_width if is_col else cell_height + cell_margin))\n",
    "            labels_group.add(label_text)\n",
    "        \n",
    "        # Add row labels\n",
    "        for i, label in enumerate(row_labels):\n",
    "            add_table_labels(i, label, \"ROW\")\n",
    "\n",
    "        # Add column labels\n",
    "        for j, label in enumerate(col_labels):\n",
    "            add_table_labels(j, label, \"COL\")\n",
    "\n",
    "        return kmap_group, labels_group"
   ]
  }
 ],
 "metadata": {
  "kernelspec": {
   "display_name": "Python 3",
   "language": "python",
   "name": "python3"
  },
  "language_info": {
   "codemirror_mode": {
    "name": "ipython",
    "version": 3
   },
   "file_extension": ".py",
   "mimetype": "text/x-python",
   "name": "python",
   "nbconvert_exporter": "python",
   "pygments_lexer": "ipython3",
   "version": "3.12.3"
  }
 },
 "nbformat": 4,
 "nbformat_minor": 2
}
