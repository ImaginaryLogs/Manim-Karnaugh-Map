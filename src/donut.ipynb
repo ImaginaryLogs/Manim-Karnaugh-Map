{
 "cells": [
  {
   "cell_type": "code",
   "execution_count": null,
   "metadata": {},
   "outputs": [],
   "source": []
  },
  {
   "cell_type": "code",
   "execution_count": 12,
   "metadata": {},
   "outputs": [],
   "source": [
    "from manim import *\n",
    "config.media_width = \"100%\"\n",
    "_RV = \"-v WARNING -qm --progress_bar None --disable_caching Example\""
   ]
  },
  {
   "cell_type": "code",
   "execution_count": 42,
   "metadata": {},
   "outputs": [
    {
     "data": {
      "text/html": [
       "<pre style=\"white-space:pre;overflow-x:auto;line-height:normal;font-family:Menlo,'DejaVu Sans Mono',consolas,'Courier New',monospace\">Manim Community <span style=\"color: #008000; text-decoration-color: #008000\">v0.18.1</span>\n",
       "\n",
       "</pre>\n"
      ],
      "text/plain": [
       "Manim Community \u001b[32mv0.\u001b[0m\u001b[32m18.1\u001b[0m\n",
       "\n"
      ]
     },
     "metadata": {},
     "output_type": "display_data"
    },
    {
     "name": "stderr",
     "output_type": "stream",
     "text": [
      "                                                                                                  \r"
     ]
    },
    {
     "data": {
      "text/html": [
       "<video src=\"media\\jupyter\\Example@2025-01-10@04-40-00.mp4\" controls autoplay loop style=\"max-width: 100%;\"  >\n",
       "      Your browser does not support the <code>video</code> element.\n",
       "    </video>"
      ],
      "text/plain": [
       "<IPython.core.display.Video object>"
      ]
     },
     "metadata": {},
     "output_type": "display_data"
    }
   ],
   "source": [
    "%%manim -qm -v WARNING Example\n",
    "\n",
    "\n",
    "class Example(ThreeDScene):\n",
    "  # Define the torus function\n",
    "    def torus_param(self, major_radius, minor_radius,  u, v):\n",
    "        x = (major_radius + minor_radius * np.cos(v)) * np.cos(u)\n",
    "        y = (major_radius + minor_radius * np.cos(v)) * np.sin(u)\n",
    "        z = minor_radius * np.sin(v)\n",
    "        return np.array([x, y, z])\n",
    "    \n",
    "    def rect(self, u, v):\n",
    "        return np.array([u, v, 0])\n",
    "    \n",
    "    def construct(self):\n",
    "        # Define parameters for the torus\n",
    "        major_radius = 3  # Major radius (distance to tube center)\n",
    "        minor_radius = 1  # Minor radius (tube radius)\n",
    "        axes = ThreeDAxes(x_range=[-4,4], x_length=8)\n",
    "        \n",
    "\n",
    "        # Create the flat rectangle (parametric representation)\n",
    "        rectangle = Surface(\n",
    "            lambda u, v: self.rect(u,v),  # Flat plane\n",
    "            u_range=[0, TAU],\n",
    "            v_range=[0, TAU],\n",
    "            resolution=(16, 16),\n",
    "            fill_opacity=0.6,\n",
    "            checkerboard_colors=[BLUE, GREEN],\n",
    "        )\n",
    "\n",
    "        # Create the torus (parametric representation)\n",
    "        torus = Surface(\n",
    "            lambda u, v: self.torus_param(major_radius, minor_radius,u, v),\n",
    "            u_range=[0, TAU],\n",
    "            v_range=[0, TAU],\n",
    "            resolution=(16, 16),\n",
    "            fill_opacity=0.6,\n",
    "            checkerboard_colors=[BLUE, GREEN],\n",
    "        )\n",
    "\n",
    "        # Set up the camera for 3D\n",
    "        self.set_camera_orientation(phi=75 * DEGREES, theta=-45 * DEGREES)\n",
    "\n",
    "        # Add the rectangle to the scene\n",
    "        self.play(Create(rectangle))\n",
    "        self.wait(1)\n",
    "\n",
    "        # Transform the rectangle into the torus\n",
    "        self.play(Transform(rectangle, torus))\n",
    "        self.remove(rectangle)\n",
    "        self.add(torus)\n",
    "        self.wait(1)\n",
    "\n",
    "        # Rotate the torus for a full view\n",
    "        self.play(Rotate(torus, angle=2 * PI, axis=UP), run_time=6)\n",
    "        self.wait(1)\n",
    "\n",
    "        # End the scene\n",
    "        self.play(FadeOut(torus))"
   ]
  }
 ],
 "metadata": {
  "kernelspec": {
   "display_name": "Python 3",
   "language": "python",
   "name": "python3"
  },
  "language_info": {
   "codemirror_mode": {
    "name": "ipython",
    "version": 3
   },
   "file_extension": ".py",
   "mimetype": "text/x-python",
   "name": "python",
   "nbconvert_exporter": "python",
   "pygments_lexer": "ipython3",
   "version": "3.12.5"
  }
 },
 "nbformat": 4,
 "nbformat_minor": 2
}
